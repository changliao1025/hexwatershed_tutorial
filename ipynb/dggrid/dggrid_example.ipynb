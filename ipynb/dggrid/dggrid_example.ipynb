{
 "cells": [
  {
   "attachments": {},
   "cell_type": "markdown",
   "id": "768807d8-ff92-4289-86eb-c9366edceafe",
   "metadata": {},
   "source": [
    "This is a tutorial HexWatershed notebook.\n",
    "This tutorial is an example of the hexwatershed application using a dggrid mesh.\n",
    "\n",
    "The following publication includes a comprehensive application:\n",
    "\n",
    "Liao, C., Engwirda, D., Cooper, M., Li, M., and Fang, Y.: Discrete Global Grid System-based Flow Routing Datasets in the Amazon and Yukon Basins, Earth Syst. Sci. Data Discuss. [preprint], https://doi.org/10.5194/essd-2023-398, in review, 2024.\n",
    "\n",
    "The full documentation of HexWatershed is hosted at: https://hexwatershed.readthedocs.io\n",
    "\n",
    "In order the run this notebook, you must install the HexWatershed package and its dependencies. \n",
    "Besides, the visulization requires the optional dependency packages (see the full documentation installation section).\n",
    "You can also modify the notebook to use a different visualization method.\n"
   ]
  },
  {
   "attachments": {},
   "cell_type": "markdown",
   "id": "e047a116",
   "metadata": {},
   "source": [
    "First, let's load some Python libraries."
   ]
  },
  {
   "cell_type": "code",
   "execution_count": 1,
   "id": "d101804e",
   "metadata": {},
   "outputs": [],
   "source": [
    "#step 1: load some basic libraries for various operations\n",
    "import os\n",
    "import sys\n",
    "import json\n",
    "from pathlib import Path\n",
    "from os.path import realpath\n",
    "import importlib.util\n",
    "from shutil import copy2\n",
    "#check dependencies\n",
    "\n",
    "iFlag_numpy = importlib.util.find_spec(\"numpy\")\n",
    "iFlag_gdal = importlib.util.find_spec(\"osgeo\")\n",
    "iFlag_pyearth = importlib.util.find_spec(\"pyearth\") \n",
    "iFlag_pyflowline = importlib.util.find_spec(\"pyflowline\") \n",
    "iFlag_geopandas = importlib.util.find_spec(\"geopandas\")"
   ]
  },
  {
   "cell_type": "code",
   "execution_count": 2,
   "id": "4b2ca848",
   "metadata": {},
   "outputs": [],
   "source": [
    "if iFlag_numpy is not None:\n",
    "    pass\n",
    "else:\n",
    "    print(\"numpy is not installed\")"
   ]
  },
  {
   "cell_type": "code",
   "execution_count": 3,
   "id": "b4ba011d",
   "metadata": {},
   "outputs": [],
   "source": [
    "if iFlag_gdal is not None:\n",
    "    pass\n",
    "else:\n",
    "    print(\"gdal is not installed\")"
   ]
  },
  {
   "cell_type": "code",
   "execution_count": 4,
   "id": "f5c78ad3",
   "metadata": {},
   "outputs": [],
   "source": [
    "if iFlag_pyearth is not None:\n",
    "    pass\n",
    "else:\n",
    "    print(\"pyearth is not installed\")"
   ]
  },
  {
   "cell_type": "code",
   "execution_count": 5,
   "id": "4d2b0424",
   "metadata": {},
   "outputs": [],
   "source": [
    "if iFlag_geopandas is not None:\n",
    "    pass\n",
    "else:\n",
    "    print(\"geopandas is not installed\")"
   ]
  },
  {
   "cell_type": "code",
   "execution_count": null,
   "id": "9c750682",
   "metadata": {},
   "outputs": [],
   "source": [
    "if iFlag_pyflowline is not None:\n",
    "    pass\n",
    "else:\n",
    "    print(\"pyflowline is not installed\")"
   ]
  },
  {
   "cell_type": "markdown",
   "id": "bf81807a",
   "metadata": {},
   "source": [
    "If any dependency is missing, please install it using conda."
   ]
  },
  {
   "cell_type": "code",
   "execution_count": 7,
   "id": "a75e5100",
   "metadata": {},
   "outputs": [
    {
     "name": "stdout",
     "output_type": "stream",
     "text": [
      "C:\\workspace\\python\\pyflowline-main\n",
      "The pyflowline package is not installed. We will use the current path to set it up.\n"
     ]
    }
   ],
   "source": [
    "#now add the pyflowline into the Python path.\n",
    "sPath_notebook = Path().resolve()\n",
    "sPath_parent = str(Path().resolve().parents[0]) \n",
    "print(sPath_parent)\n",
    "#check hexwatershed installation\n",
    "iFlag_hexwatershed = importlib.util.find_spec(\"hexwatershed\") \n",
    "if iFlag_hexwatershed is not None:\n",
    "    pass\n",
    "else:\n",
    "    print('The hexwatershed package is not installed.')\n",
    "    sys.path.append(sPath_parent)\n",
    "\n",
    "\n"
   ]
  },
  {
   "cell_type": "markdown",
   "id": "9f2f1520",
   "metadata": {},
   "source": [
    "We need to download an additional NetCDF file for this example.\n",
    "This file is stored on the Github release:\n",
    "https://github.com/changliao1025/pyflowline/releases/tag/0.2.0\n",
    "https://github.com/changliao1025/pyflowline/releases/download/0.2.0/lnd_cull_mesh.nc"
   ]
  },
  {
   "cell_type": "code",
   "execution_count": 9,
   "id": "c52960d0",
   "metadata": {},
   "outputs": [
    {
     "name": "stdout",
     "output_type": "stream",
     "text": [
      "C:\\workspace\\python\\pyflowline-main\\data\\susquehanna\\input\\mpas_mesh.nc\n",
      "File 'C:\\workspace\\python\\pyflowline-main\\data\\susquehanna\\input\\mpas_mesh.nc' downloaded successfully.\n"
     ]
    }
   ],
   "source": [
    "\n",
    "#add compiled binary into the system path\n",
    "import os\n",
    "os.environ[\"PATH\"] += os.pathsep + \"/home/jovyan/\""
   ]
  },
  {
   "cell_type": "markdown",
   "id": "25edfaeb",
   "metadata": {},
   "source": [
    "Now we can import functions within hexwatershed."
   ]
  },
  {
   "cell_type": "code",
   "execution_count": 10,
   "id": "9ad0e257",
   "metadata": {},
   "outputs": [],
   "source": [
    "#step 3\n",
    "#load the read configuration function\n",
    "from pyhexwatershed.change_json_key_value import change_json_key_value\n",
    "from pyhexwatershed.pyhexwatershed_read_model_configuration_file import pyhexwatershed_read_model_configuration_file"
   ]
  },
  {
   "attachments": {},
   "cell_type": "markdown",
   "id": "025169d4",
   "metadata": {},
   "source": [
    "hexwatershed uses a json file for configuration, an example json file is provided.\n",
    "check whether a configuration exists"
   ]
  },
  {
   "cell_type": "code",
   "execution_count": 11,
   "id": "25e0e653",
   "metadata": {},
   "outputs": [],
   "source": [
    "sWorkspace_data = realpath( sPath_notebook +  '/data/yukon' )\n",
    "sWorkspace_input =  str(Path(sWorkspace_data)  /  'input')\n",
    "sFilename_configuration_in = realpath( sWorkspace_input +  '/pyhexwatershed_amazon_dggrid.json' )\n",
    "if os.path.isfile(sFilename_configuration_in):\n",
    "    pass\n",
    "else:\n",
    "    print('This configuration does not exist: ', sFilename_configuration_in )"
   ]
  },
  {
   "cell_type": "code",
   "execution_count": 12,
   "id": "394d0745",
   "metadata": {},
   "outputs": [
    {
     "name": "stdout",
     "output_type": "stream",
     "text": [
      "{\n",
      "    \"sFilename_model_configuration\": \"/qfs/people/liao313/workspace/python/pyflowline/pyflowline/config/hexwatershed_susquehanna_mpas.json\",\n",
      "    \"sWorkspace_data\": \"/people/liao313/data\",\n",
      "    \"sWorkspace_output\": \"/compyfs/liao313/04model/pyflowline/susquehanna\",\n",
      "    \"sWorkspace_project\": \"/hexwatershed/susquehanna\",\n",
      "    \"sWorkspace_bin\": \"/people/liao313/bin\",\n",
      "    \"sRegion\": \"susquehanna\",\n",
      "    \"sModel\": \"pyflowline\",\n",
      "    \"sJob\": \"hex\",\n",
      "    \"iFlag_standalone\": 1,\n",
      "    \"iFlag_create_mesh\": 1,\n",
      "    \"iFlag_mesh_boundary\": 1,\n",
      "    \"iFlag_save_mesh\": 1,\n",
      "    \"iFlag_simplification\": 1,\n",
      "    \"iFlag_intersect\": 1,\n",
      "    \"iFlag_flowline\": 1,\n",
      "    \"iFlag_use_mesh_dem\": 1,\n",
      "    \"iFlag_global\": 0,\n",
      "    \"iFlag_multiple_outlet\": 0,\n",
      "    \"iFlag_rotation\": 0,\n",
      "    \"iCase_index\": 1,\n",
      "    \"iMesh_type\": 4,\n",
      "    \"dLongitude_left\": -79,\n",
      "    \"dLongitude_right\": -74.5,\n",
      "    \"dLatitude_bot\": 39.2,\n",
      "    \"dLatitude_top\": 42.8,\n",
      "    \"dResolution_degree\": 5000,\n",
      "    \"dResolution_meter\": 5000,\n",
      "    \"sDate\": \"20220110\",\n",
      "    \"sMesh_type\": \"mpas\",\n",
      "    \"sFilename_spatial_reference\": \"/qfs/people/liao313/workspace/python/pyhexwatershed_icom/data/susquehanna/input/boundary_proj_buff.shp\",\n",
      "    \"sFilename_dem\": \"/qfs/people/liao313/workspace/python/pyhexwatershed_icom/data/susquehanna/input/dem_buff_ext.tif\",\n",
      "    \"sFilename_mesh_netcdf\": \"/qfs/people/liao313/workspace/python/pyflowline/data/susquehanna/input/lnd_cull_mesh.nc\",\n",
      "    \"sFilename_mesh_boundary\": \"/qfs/people/liao313/workspace/python/pyflowline/data/susquehanna/input/boundary_wgs.geojson\",\n",
      "    \"sFilename_basins\": \"/qfs/people/liao313/workspace/python/pyflowline/examples/susquehanna/pyflowline_susquehanna_basins.json\"\n",
      "}\n"
     ]
    }
   ],
   "source": [
    "\n",
    "#we can take a look at the content of this json file\n",
    "\n",
    "with open(sFilename_configuration_in, 'r') as pJSON:\n",
    "    parsed = json.load(pJSON)\n",
    "    print(json.dumps(parsed, indent=4))"
   ]
  },
  {
   "attachments": {},
   "cell_type": "markdown",
   "id": "85dc3a19",
   "metadata": {},
   "source": [
    "The meaning of these json keywords are explained in the HexWatershed documentation: https://pyflowline.readthedocs.io/en/latest/data/data.html#inputs\n"
   ]
  },
  {
   "attachments": {},
   "cell_type": "markdown",
   "id": "33cce0f7",
   "metadata": {},
   "source": [
    "Now we can set up some keywords/parameters"
   ]
  },
  {
   "cell_type": "code",
   "execution_count": 13,
   "id": "52820d49",
   "metadata": {},
   "outputs": [],
   "source": [
    "#set up some parameters\n",
    "sMesh_type = 'dggrid' #the dggrid mesh type supported by hexwatershed\n",
    "sDggrid_type = 'ISEA3H' #a type of dggrid mesh\n",
    "iCase_index = 1 #a case index for bookmark\n",
    "iResolution_index = 10 #dggrid resolution index, see dggrid documentation for details.\n",
    "iFlag_stream_burning_topology = 1 #see hexwatershed documentation for details, also see the publication list.\n",
    "iFlag_use_mesh_dem = 0\n",
    "iFlag_elevation_profile = 0\n",
    "\n",
    "#get today's year, month and day\n",
    "from datetime import date\n",
    "today = date.today()\n",
    "iYear = today.year\n",
    "iMonth = today.month\n",
    "iDay = today.day\n",
    "print(\"Today's date:\", iYear, iMonth, iDay)\n",
    "sDate = str(iYear) + str(iMonth).zfill(2) + str(iDay).zfill(2) #the date is also a bookmark to label a simulation\n",
    "sWorkspace_output = sWorkspace_data + '/output/' #this is where the output will be stored"
   ]
  },
  {
   "cell_type": "code",
   "execution_count": 14,
   "id": "69f442ec",
   "metadata": {},
   "outputs": [],
   "source": [
    "#use this function from pyflowline to check the actual spatial resolution \n",
    "from pyflowline.mesh.dggrid.create_dggrid_mesh import dggrid_find_resolution_by_index\n",
    "dResolution = dggrid_find_resolution_by_index(sDggrid_type, iResolution_index)\n",
    "print(dResolution)  \n"
   ]
  },
  {
   "cell_type": "markdown",
   "id": "541c234a",
   "metadata": {},
   "source": []
  },
  {
   "cell_type": "code",
   "execution_count": null,
   "id": "fcca0e3b",
   "metadata": {},
   "outputs": [],
   "source": [
    "#create a temporal hexwatershed object, later on we will modify several parameters\n",
    "oPyhexwatershed = pyhexwatershed_read_model_configuration_file(sFilename_configuration_in,\n",
    "                    iCase_index_in=iCase_index,iFlag_stream_burning_topology_in=iFlag_stream_burning_topology,\n",
    "                    iFlag_use_mesh_dem_in=0,\n",
    "                    iFlag_elevation_profile_in=0,\n",
    "                    iResolution_index_in = iResolution_index, \n",
    "                    sDggrid_type_in=sDggrid_type,\n",
    "                    sDate_in = sDate, sMesh_type_in= sMesh_type)  \n",
    "\n",
    "#first, we want to change the output directory, even if the json file might be correct, we change it anyway\n",
    "sWorkspace_output_old = oPyhexwatershed.sWorkspace_output\n",
    "#we will copy the example configuration files first, so we won't modify the original files\n",
    "sFilename_configuration_copy= os.path.join( sWorkspace_output, 'pyhexwatershed_configuration_copy.json' )\n",
    "#copy the main configuration file to the output directory\n",
    "copy2(sFilename_configuration_in, sFilename_configuration_copy)\n",
    "#copy the basin configuration file to the output directory as well\n",
    "sFilename_basins_in = oPyhexwatershed.sFilename_basins\n",
    "sFilename_configuration_basins_copy = os.path.join( sWorkspace_output, 'pyhexwatershed_configuration_basins_copy.json' )    \n",
    "copy2(sFilename_basins_in, sFilename_configuration_basins_copy)\n",
    "\n",
    "#now we can modify these two configuration files without worrying about the original files\n",
    "sFilename_configuration = sFilename_configuration_copy\n",
    "sFilename_basins = sFilename_configuration_basins_copy\n",
    "change_json_key_value(sFilename_configuration_in, 'sWorkspace_output', sWorkspace_output) #output folder\n",
    "change_json_key_value(sFilename_configuration_in, 'sFilename_basins', sFilename_basins) #basin configuration file\n",
    "\n",
    "#we want to change the boundary file, which is a geojson file\n",
    "sFilename_mesh_boundary = realpath(os.path.join(sWorkspace_input, 'boundary_wgs.geojson')) #boundary to clip mesh\n",
    "change_json_key_value(sFilename_configuration_in, 'sFilename_mesh_boundary', sFilename_mesh_boundary) \n",
    "\n",
    "\n"
   ]
  },
  {
   "attachments": {},
   "cell_type": "markdown",
   "id": "98968ee9",
   "metadata": {},
   "source": [
    "we can now call the function to re-create a hexwatershed object"
   ]
  },
  {
   "cell_type": "code",
   "execution_count": 15,
   "id": "2a221825",
   "metadata": {},
   "outputs": [
    {
     "name": "stdout",
     "output_type": "stream",
     "text": [
      "C:\\workspace\\python\\pyflowline-main\\data\\susquehanna\\output\n"
     ]
    }
   ],
   "source": [
    "#the read function accepts several keyword arguments that can be used to change the default parameters.\n",
    "#the normal keyword arguments are:\n",
    "#iCase_index_in: this is an ID to identify the simulation case\n",
    "#sMesh_type_in: this specifies the mesh type ('mpas' in this example)\n",
    "#sDate_in: this specifies the date of the simulation, the final output folder will have a pattern such as 'pyflowline20230901001', where pyflowline is model, 20230901 is the date, and 001 is the case index.\n",
    "oPyhexwatershed = None\n",
    "oPyhexwatershed = pyhexwatershed_read_model_configuration_file(sFilename_configuration,\n",
    "                    iCase_index_in=iCase_index,iFlag_stream_burning_topology_in=iFlag_stream_burning_topology,\n",
    "                    iFlag_use_mesh_dem_in=iFlag_use_mesh_dem,\n",
    "                    iFlag_elevation_profile_in=iFlag_elevation_profile,\n",
    "                    iResolution_index_in = iResolution_index, \n",
    "                    sDggrid_type_in=sDggrid_type,\n",
    "                    sDate_in= sDate, sMesh_type_in = sMesh_type)  "
   ]
  },
  {
   "attachments": {},
   "cell_type": "markdown",
   "id": "439971cd",
   "metadata": {},
   "source": [
    "You can review the setting again."
   ]
  },
  {
   "cell_type": "code",
   "execution_count": null,
   "id": "4e96d31d",
   "metadata": {},
   "outputs": [],
   "source": [
    "print(oPyhexwatershed.tojson())"
   ]
  },
  {
   "attachments": {},
   "cell_type": "markdown",
   "id": "e1239843",
   "metadata": {},
   "source": [
    "Other than change the json file directly, you can also change the parameters on the fly for some of the parameters.\n",
    "This is useful for testing different parameters without changing the json file, especially for individual basins."
   ]
  },
  {
   "cell_type": "code",
   "execution_count": 18,
   "id": "8c4e6526",
   "metadata": {},
   "outputs": [],
   "source": [
    "#we also need to set the output location for the only basin\n",
    "dLongitude_outlet_degree=-49.47644\n",
    "dLatitude_outlet_degree=1.08260\n",
    "oPyhexwatershed.pPyFlowline.aBasin[0].dThreshold_small_river = dResolution * 5 \n",
    "oPyhexwatershed.pPyFlowline.pyflowline_change_model_parameter('dLongitude_outlet_degree', dLongitude_outlet_degree, iFlag_basin_in= 1)\n",
    "oPyhexwatershed.pPyFlowline.pyflowline_change_model_parameter('dLatitude_outlet_degree', dLatitude_outlet_degree, iFlag_basin_in= 1)\n",
    "#we want to change the flowline file, which is a geojson file\n",
    "sFilename_flowline = realpath(os.path.join(sWorkspace_input, 'flowline.geojson') )\n",
    "oPyhexwatershed.pPyFlowline.pyflowline_change_model_parameter('sFilename_flowline_filter', sFilename_flowline, iFlag_basin_in= 1)"
   ]
  },
  {
   "cell_type": "markdown",
   "id": "61f5b8ed",
   "metadata": {},
   "source": [
    "You can check the setting for the single basin as well"
   ]
  },
  {
   "cell_type": "code",
   "execution_count": null,
   "id": "edd17e3e",
   "metadata": {},
   "outputs": [],
   "source": [
    "print(oPyhexwatershed.aBasin[0].tojson())"
   ]
  },
  {
   "attachments": {},
   "cell_type": "markdown",
   "id": "c432a723",
   "metadata": {},
   "source": [
    "After the hexwatershed object was re-created, we can set up the model."
   ]
  },
  {
   "cell_type": "code",
   "execution_count": null,
   "id": "8d74fbfc",
   "metadata": {},
   "outputs": [],
   "source": [
    "#setup the model       \n",
    "oPyhexwatershed.pyhexwatershed_setup()"
   ]
  },
  {
   "attachments": {},
   "cell_type": "markdown",
   "id": "39507b33",
   "metadata": {},
   "source": [
    "Before any operation, we can visualize the original or raw flowline dataset. "
   ]
  },
  {
   "cell_type": "code",
   "execution_count": null,
   "id": "167e3cb8",
   "metadata": {},
   "outputs": [],
   "source": [
    "if iFlag_geopandas is not None:\n",
    "    import geopandas as gpd\n",
    "    import matplotlib.pyplot as plt  \n",
    "else:\n",
    "    print('The visulization packages are not installed.')\n",
    "pass"
   ]
  },
  {
   "attachments": {},
   "cell_type": "markdown",
   "id": "8d3b8d00",
   "metadata": {},
   "source": [
    "You can also use QGIS."
   ]
  },
  {
   "attachments": {},
   "cell_type": "markdown",
   "id": "09017d73",
   "metadata": {},
   "source": [
    "The plot function provides a few optional arguments such as map projection and spatial extent. \n",
    "By default, the spatial extent is full. \n",
    "But you can set the extent to a zoom-in region."
   ]
  },
  {
   "attachments": {},
   "cell_type": "markdown",
   "id": "e735b614",
   "metadata": {},
   "source": [
    "Now let's run the the submodel pyflowline."
   ]
  },
  {
   "cell_type": "code",
   "execution_count": null,
   "id": "689984cb",
   "metadata": {},
   "outputs": [],
   "source": [
    "#run step 1\n",
    "aCell_origin = oPyhexwatershed.pyhexwatershed_run_pyflowline();"
   ]
  },
  {
   "attachments": {},
   "cell_type": "markdown",
   "id": "7c786cb7",
   "metadata": {},
   "source": [
    "and check the result using a plot"
   ]
  },
  {
   "attachments": {},
   "cell_type": "markdown",
   "id": "fedd7947",
   "metadata": {},
   "source": [
    "Similarly, we can zoom in using the extent."
   ]
  },
  {
   "attachments": {},
   "cell_type": "markdown",
   "id": "e72a9453",
   "metadata": {},
   "source": [
    "Next, we will creata a mesh from the global MPAS mesh."
   ]
  },
  {
   "attachments": {},
   "cell_type": "markdown",
   "id": "29e58f9b",
   "metadata": {},
   "source": [
    "we can also use a polygon to create a mesh"
   ]
  },
  {
   "attachments": {},
   "cell_type": "markdown",
   "id": "9d8c3d26",
   "metadata": {},
   "source": [
    "Last, we can generate the conceptual flowline."
   ]
  },
  {
   "attachments": {},
   "cell_type": "markdown",
   "id": "73df1fb2",
   "metadata": {},
   "source": [
    "Now we can overlap mesh with flowline."
   ]
  },
  {
   "cell_type": "code",
   "execution_count": null,
   "id": "61d6df7b",
   "metadata": {},
   "outputs": [],
   "source": [
    "\n",
    "oPyhexwatershed.pyhexwatershed_assign_elevation_to_cells()\n",
    "aCell_new = oPyhexwatershed.pyhexwatershed_update_outlet(aCell_origin)\n",
    "oPyhexwatershed.pPyFlowline.pyflowline_export()\n",
    "oPyhexwatershed.pyhexwatershed_export_config_to_json()\n",
    "oPyhexwatershed.pyhexwatershed_run_hexwatershed()\n",
    "oPyhexwatershed.pyhexwatershed_analyze()\n",
    "oPyhexwatershed.pyhexwatershed_export()\n"
   ]
  },
  {
   "attachments": {},
   "cell_type": "markdown",
   "id": "33ce7f70",
   "metadata": {},
   "source": [
    "After this, we can save the model output into a json file."
   ]
  },
  {
   "cell_type": "code",
   "execution_count": 31,
   "id": "e8efab4e",
   "metadata": {},
   "outputs": [],
   "source": [
    "#export output\n",
    "\n",
    "file1_path = oPyhexwatershed.sFilename_mesh\n",
    "file2_path = oPyhexwatershed.aBasin[0].sFilename_flow_direction\n",
    "gdf1 = gpd.read_file(file1_path)\n",
    "gdf2 = gpd.read_file(file2_path)\n",
    "fig, ax = plt.subplots()\n",
    "gdf1.plot(ax=ax, color='blue')\n",
    "gdf2.plot(ax=ax, color='red')\n",
    "plt.show()\n",
    "pass"
   ]
  },
  {
   "attachments": {},
   "cell_type": "markdown",
   "id": "5c8c3f75",
   "metadata": {},
   "source": [
    "the content of the one of the exported json files can be checked:"
   ]
  },
  {
   "cell_type": "code",
   "execution_count": null,
   "id": "b27d7c95",
   "metadata": {},
   "outputs": [],
   "source": []
  },
  {
   "attachments": {},
   "cell_type": "markdown",
   "id": "9e07bc96",
   "metadata": {},
   "source": [
    "The outlet associated flowline is always assigned with a dam, because it would be preserved."
   ]
  },
  {
   "attachments": {},
   "cell_type": "markdown",
   "id": "e2f1bea7",
   "metadata": {},
   "source": [
    "Congratulations! You have successfully finished a pyflowline simulation."
   ]
  }
 ],
 "metadata": {
  "kernelspec": {
   "display_name": "hexwatershed",
   "language": "python",
   "name": "python3"
  },
  "language_info": {
   "codemirror_mode": {
    "name": "ipython",
    "version": 3
   },
   "file_extension": ".py",
   "mimetype": "text/x-python",
   "name": "python",
   "nbconvert_exporter": "python",
   "pygments_lexer": "ipython3",
   "version": "3.11.5"
  },
  "vscode": {
   "interpreter": {
    "hash": "79a4c0f6fdb3719d3372bd1edc1cf6b68731a08c9eb5f46b972d9360271030c3"
   }
  }
 },
 "nbformat": 4,
 "nbformat_minor": 5
}
