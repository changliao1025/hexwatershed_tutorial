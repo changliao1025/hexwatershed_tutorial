{
 "cells": [
  {
   "attachments": {},
   "cell_type": "markdown",
   "id": "768807d8-ff92-4289-86eb-c9366edceafe",
   "metadata": {},
   "source": [
    "This is a tutorial HexWatershed notebook.\n",
    "This tutorial is an example of the hexwatershed application using a dggrid mesh.\n",
    "\n",
    "The following publication includes a comprehensive application:\n",
    "\n",
    "Liao, C., Engwirda, D., Cooper, M., Li, M., and Fang, Y.: Discrete Global Grid System-based Flow Routing Datasets in the Amazon and Yukon Basins, Earth Syst. Sci. Data Discuss. [preprint], https://doi.org/10.5194/essd-2023-398, in review, 2024.\n",
    "\n",
    "The full documentation of HexWatershed is hosted at: https://hexwatershed.readthedocs.io\n",
    "\n",
    "In order the run this notebook, you must install the HexWatershed package and its dependencies. \n",
    "Besides, the visulization requires the optional dependency packages (see the full documentation installation section).\n",
    "You can also modify the notebook to use a different visualization method.\n"
   ]
  },
  {
   "attachments": {},
   "cell_type": "markdown",
   "id": "e047a116",
   "metadata": {},
   "source": [
    "First, let's load some Python libraries."
   ]
  },
  {
   "cell_type": "code",
   "execution_count": 2,
   "id": "d101804e",
   "metadata": {},
   "outputs": [],
   "source": [
    "#step 1: load some basic libraries for various operations\n",
    "import os\n",
    "import sys\n",
    "import json\n",
    "from pathlib import Path\n",
    "import shutil\n",
    "from os.path import realpath\n",
    "import importlib.util\n",
    "from shutil import copy2\n",
    "from datetime import date\n"
   ]
  },
  {
   "cell_type": "markdown",
   "id": "bf81807a",
   "metadata": {},
   "source": [
    "If any dependency is missing, please install it using conda."
   ]
  },
  {
   "cell_type": "code",
   "execution_count": 3,
   "id": "a75e5100",
   "metadata": {},
   "outputs": [
    {
     "name": "stdout",
     "output_type": "stream",
     "text": [
      "/Users/liao313/workspace/python/hexwatershed_tutorial/notebooks/dggrid\n",
      "/Users/liao313/workspace/python/hexwatershed_tutorial\n",
      "['/Users/liao313/workspace/python/pyhexwatershed', '/Users/liao313/workspace/python/pyflowline', '/Users/liao313/workspace/python/pyearth', '/Users/liao313/workspace/python/hexwatershed_tutorial/notebooks/dggrid', '/opt/miniconda3/envs/hexwatershed/lib/python312.zip', '/opt/miniconda3/envs/hexwatershed/lib/python3.12', '/opt/miniconda3/envs/hexwatershed/lib/python3.12/lib-dynload', '', '/opt/miniconda3/envs/hexwatershed/lib/python3.12/site-packages', '/Users/liao313/workspace/python/pyhexwatershed', '/Users/liao313/workspace/python/pyflowline', '/Users/liao313/workspace/python/pyearth']\n"
     ]
    }
   ],
   "source": [
    "#now add the pyflowline into the Python path.\n",
    "sPath_notebook = Path().resolve()\n",
    "print(sPath_notebook)\n",
    "sPath_parent = str(Path().resolve().parents[1]) \n",
    "print(sPath_parent)\n",
    "\n",
    "#check hexwatershed installation\n",
    "iFlag_hexwatershed = importlib.util.find_spec(\"pyhexwatershed\") \n",
    "if iFlag_hexwatershed is not None:\n",
    "    print('The hexwatershed package is installed.')\n",
    "    pass\n",
    "else:\n",
    "    print('The hexwatershed package is not installed.')\n",
    "\n",
    "\n"
   ]
  },
  {
   "cell_type": "code",
   "execution_count": 4,
   "id": "c52960d0",
   "metadata": {},
   "outputs": [],
   "source": [
    "\n",
    "#add compiled binary into the system path\n",
    "import os\n",
    "os.environ[\"PATH\"] += os.pathsep + \"/home/jovyan/\""
   ]
  },
  {
   "cell_type": "markdown",
   "id": "25edfaeb",
   "metadata": {},
   "source": [
    "Now we can import functions within hexwatershed."
   ]
  },
  {
   "cell_type": "code",
   "execution_count": 5,
   "id": "9ad0e257",
   "metadata": {},
   "outputs": [],
   "source": [
    "#step 3\n",
    "#load the read configuration function\n",
    "from pyhexwatershed.change_json_key_value import change_json_key_value\n",
    "from pyhexwatershed.pyhexwatershed_read_model_configuration_file import pyhexwatershed_read_model_configuration_file"
   ]
  },
  {
   "attachments": {},
   "cell_type": "markdown",
   "id": "025169d4",
   "metadata": {},
   "source": [
    "hexwatershed uses a json file for configuration, an example json file is provided.\n",
    "check whether a configuration exists"
   ]
  },
  {
   "cell_type": "code",
   "execution_count": 27,
   "id": "25e0e653",
   "metadata": {},
   "outputs": [
    {
     "name": "stdout",
     "output_type": "stream",
     "text": [
      "/Users/liao313/workspace/python/hexwatershed_tutorial\n",
      "/Users/liao313/workspace/python/hexwatershed_tutorial/data/yukon\n"
     ]
    },
    {
     "name": "stderr",
     "output_type": "stream",
     "text": [
      "Cloning into '/Users/liao313/workspace/python/hexwatershed_tutorial/data/tmp'...\n"
     ]
    }
   ],
   "source": [
    "print(sPath_parent)\n",
    "sWorkspace_data = os.path.join( sPath_parent ,  'data', 'yukon' )\n",
    "if not os.path.exists(sWorkspace_data):\n",
    "    print(sWorkspace_data)\n",
    "    os.makedirs(sWorkspace_data)\n",
    "\n",
    "sWorkspace_input =  os.path.join( sWorkspace_data ,  'input')\n",
    "if not os.path.exists(sWorkspace_input):\n",
    "    print(sWorkspace_input)\n",
    "    os.makedirs(sWorkspace_input)\n",
    "\n",
    "sPath_bin = os.path.join( sPath_parent ,  'bin' )\n",
    "if not os.path.exists(sPath_bin):\n",
    "    print(sPath_bin)\n",
    "    os.makedirs(sPath_bin)\n",
    "os.environ[\"PATH\"] += os.pathsep + sPath_bin\n",
    "\n",
    "#create a temp folder to download data\n",
    "sPath_temp = os.path.join( sPath_parent ,  'data', 'tmp' )\n",
    "if not os.path.exists(sPath_temp):\n",
    "    print(sPath_temp)\n",
    "    os.makedirs(sPath_temp)\n",
    "else:\n",
    "    shutil.rmtree(sPath_temp)\n",
    "\n",
    "# specify the repository's URL\n",
    "hexwatershed_data_repo = 'https://github.com/changliao1025/hexwatershed_data.git'\n",
    "# clone the repository\n",
    "os.system(f'git clone {hexwatershed_data_repo} {sPath_temp}')\n",
    "sPath_temp_data = os.path.join( sPath_parent ,  'data', 'tmp', 'data','yukon', 'input' )\n",
    "\n",
    "#copy all the files under the temp data folder using shutil\n",
    "# check if the destination directory exists\n",
    "if os.path.exists(sWorkspace_input):\n",
    "    # if it does, remove it\n",
    "    shutil.rmtree(sWorkspace_input)\n",
    "shutil.copytree(sPath_temp_data, sWorkspace_input)\n",
    "\n",
    "#an example of the configuration file are provided in the input folder\n",
    "sFilename_configuration_in = realpath( sWorkspace_input +  '/pyhexwatershed_yukon_dggrid.json' )\n",
    "sFilename_basins_in = realpath( sWorkspace_input +  '/pyflowline_yukon_basins.json' )\n",
    "if os.path.isfile(sFilename_configuration_in):\n",
    "    pass\n",
    "else:\n",
    "    print('This configuration does not exist: ', sFilename_configuration_in )\n",
    "\n",
    "print('Finished the data preparation step.')"
   ]
  },
  {
   "cell_type": "code",
   "execution_count": 11,
   "id": "394d0745",
   "metadata": {},
   "outputs": [
    {
     "name": "stdout",
     "output_type": "stream",
     "text": [
      "{\n",
      "    \"sFilename_model_configuration\": \"/qfs/people/liao313/workspace/python/pyhexwatershed/tests/configurations/pyhexwatershed_yukon_mpas.json\",\n",
      "    \"sModel\": \"pyhexwatershed\",\n",
      "    \"sRegion\": \"yukon\",\n",
      "    \"sWorkspace_input\": \"/qfs/people/liao313/workspace/python/pyhexwatershed_icom/data/yukon/input\",\n",
      "    \"sWorkspace_output\": \"/compyfs/liao313/04model/pyhexwatershed/yukon\",\n",
      "    \"sJob\": \"hexwatershed\",\n",
      "    \"iFlag_create_mesh\": 1,\n",
      "    \"iFlag_mesh_boundary\": 1,\n",
      "    \"iFlag_save_mesh\": 1,\n",
      "    \"iFlag_simplification\": 1,\n",
      "    \"iFlag_intersect\": 1,\n",
      "    \"iFlag_resample_method\": 2,\n",
      "    \"iFlag_flowline\": 1,\n",
      "    \"iFlag_global\": 0,\n",
      "    \"iFlag_multiple_outlet\": 0,\n",
      "    \"iFlag_use_mesh_dem\": 1,\n",
      "    \"iFlag_elevation_profile\": 1,\n",
      "    \"iFlag_rotation\": 0,\n",
      "    \"iFlag_stream_burning_topology\": 1,\n",
      "    \"iFlag_save_elevation\": 1,\n",
      "    \"iFlag_dggrid\": 1,\n",
      "    \"iResolution_index\": 1,\n",
      "    \"iCase_index\": 1,\n",
      "    \"iMesh_type\": 4,\n",
      "    \"nOutlet\": 1,\n",
      "    \"dMissing_value_dem\": -9999,\n",
      "    \"dBreach_threshold\": 10,\n",
      "    \"dAccumulation_threshold\": 100000,\n",
      "    \"dLongitude_left\": -80,\n",
      "    \"dLongitude_right\": -50.6,\n",
      "    \"dLatitude_bot\": -20.4,\n",
      "    \"dLatitude_top\": 5.5,\n",
      "    \"dResolution_degree\": 5000,\n",
      "    \"dResolution_meter\": 50000,\n",
      "    \"sDate\": \"20220725\",\n",
      "    \"sMesh_type\": \"mpas\",\n",
      "    \"sDggrid_type\": \"ISEA3H\",\n",
      "    \"iFlag_user_provided_binary\": 1,\n",
      "    \"sFilename_dggrid\": \"/qfs/people/liao313/bin/dggrid\",\n",
      "    \"sFilename_hexwatershed_bin\": \"/qfs/people/liao313/workspace/cplus/hexwatershed/build/hexwatershed\",\n",
      "    \"sFilename_spatial_reference\": \"/qfs/people/liao313/workspace/python/pyhexwatershed_icom/data/yukon/input/boundary_proj_buff.shp\",\n",
      "    \"sFilename_mesh_boundary\": \"/qfs/people/liao313/data/hexwatershed/yukon/vector/hydrology/boundary.geojson\",\n",
      "    \"sFilename_dem\": \"/qfs/people/liao313/data/hexwatershed/yukon/raster/dem/hyd_ar_dem_30s/hyd_ar_dem_30s.tif\",\n",
      "    \"sFilename_mesh_netcdf\": \"/compyfs/liao313/00raw/mesh/global/lnd_mesh.nc\",\n",
      "    \"sFilename_basins\": \"/qfs/people/liao313/workspace/python/liao_2023_scidata_dggs/data/yukon/input/pyflowline_yukon_basins.json\"\n",
      "}\n"
     ]
    }
   ],
   "source": [
    "\n",
    "#we can take a look at the content of this json file\n",
    "with open(sFilename_configuration_in, 'r') as pJSON:\n",
    "    parsed = json.load(pJSON)\n",
    "    print(json.dumps(parsed, indent=4))"
   ]
  },
  {
   "attachments": {},
   "cell_type": "markdown",
   "id": "85dc3a19",
   "metadata": {},
   "source": [
    "The meaning of these json keywords are explained in the HexWatershed documentation: https://pyflowline.readthedocs.io/en/latest/data/data.html#inputs\n"
   ]
  },
  {
   "attachments": {},
   "cell_type": "markdown",
   "id": "33cce0f7",
   "metadata": {},
   "source": [
    "Now we can set up some keywords/parameters"
   ]
  },
  {
   "cell_type": "code",
   "execution_count": 8,
   "id": "52820d49",
   "metadata": {},
   "outputs": [
    {
     "name": "stdout",
     "output_type": "stream",
     "text": [
      "Today's date: 2024 4 16\n"
     ]
    }
   ],
   "source": [
    "#set up some parameters\n",
    "sMesh_type = 'dggrid' #the dggrid mesh type supported by hexwatershed\n",
    "sDggrid_type = 'ISEA3H' #a type of dggrid mesh\n",
    "iCase_index = 1 #a case index for bookmark\n",
    "iResolution_index = 10 #dggrid resolution index, see dggrid documentation for details.\n",
    "iFlag_stream_burning_topology = 1 #see hexwatershed documentation for details, also see the publication list.\n",
    "iFlag_use_mesh_dem = 0\n",
    "iFlag_elevation_profile = 0\n",
    "\n",
    "today = date.today()\n",
    "iYear = today.year\n",
    "iMonth = today.month\n",
    "iDay = today.day\n",
    "print(\"Today's date:\", iYear, iMonth, iDay)\n",
    "sDate = str(iYear) + str(iMonth).zfill(2) + str(iDay).zfill(2) #the date is also a bookmark to label a simulation\n",
    "sWorkspace_output = sWorkspace_data + '/output/' #this is where the output will be stored"
   ]
  },
  {
   "cell_type": "code",
   "execution_count": 9,
   "id": "69f442ec",
   "metadata": {},
   "outputs": [
    {
     "name": "stdout",
     "output_type": "stream",
     "text": [
      "31759.6\n"
     ]
    }
   ],
   "source": [
    "#use this function from pyflowline to check the actual spatial resolution \n",
    "from pyflowline.mesh.dggrid.create_dggrid_mesh import dggrid_find_resolution_by_index\n",
    "dResolution = dggrid_find_resolution_by_index(sDggrid_type, iResolution_index)\n",
    "print(dResolution)  "
   ]
  },
  {
   "cell_type": "markdown",
   "id": "541c234a",
   "metadata": {},
   "source": []
  },
  {
   "cell_type": "code",
   "execution_count": 19,
   "id": "fcca0e3b",
   "metadata": {},
   "outputs": [
    {
     "name": "stdout",
     "output_type": "stream",
     "text": [
      "/Users/liao313/workspace/python/hexwatershed_tutorial/data/yukon/input/pyhexwatershed_yukon_dggrid.json\n",
      "/Users/liao313/workspace/python/hexwatershed_tutorial/data/yukon/output/\n",
      "HexWatershed compset is being initialized\n",
      "The model will use the user provided binary file\n",
      "The user provided binary file does not exist. The model will use the default binary file\n",
      "Directory /Users/liao313/workspace/python/hexwatershed_tutorial/data/yukon/output/pyhexwatershed20240416002 created successfully\n",
      "The dggrid binary file does not exist, you need to update this parameter before running the model!\n",
      "The DEM file does not exist in pyflowline!\n",
      "The filtered flowline file does not exist!\n",
      "The filtered flowline file does not exist!\n",
      "/Users/liao313/workspace/python/hexwatershed_tutorial/data/yukon/output/pyhexwatershed_configuration_copy.json\n"
     ]
    }
   ],
   "source": [
    "#create a temporal hexwatershed object, later on we will modify several parameters\n",
    "print(sFilename_configuration_in)\n",
    "oPyhexwatershed = pyhexwatershed_read_model_configuration_file(sFilename_configuration_in,\n",
    "                    iCase_index_in=iCase_index,iFlag_stream_burning_topology_in=iFlag_stream_burning_topology,\n",
    "                    iFlag_use_mesh_dem_in=0,\n",
    "                    iFlag_elevation_profile_in=0,\n",
    "                    iResolution_index_in = iResolution_index, \n",
    "                    sDggrid_type_in=sDggrid_type,\n",
    "                    sDate_in = sDate, sMesh_type_in= sMesh_type, \n",
    "                    sWorkspace_output_in = sWorkspace_output)  \n",
    "\n",
    "#first, we want to change the output directory, even if the json file might be correct, we change it anyway\n",
    "sWorkspace_output_old = oPyhexwatershed.sWorkspace_output\n",
    "#we will copy the example configuration files first, so we won't modify the original files\n",
    "sFilename_configuration_copy= os.path.join( sWorkspace_output, 'pyhexwatershed_configuration_copy.json' )\n",
    "#copy the main configuration file to the output directory\n",
    "copy2(sFilename_configuration_in, sFilename_configuration_copy)\n",
    "#copy the basin configuration file to the output directory as well\n",
    "\n",
    "sFilename_configuration_basins_copy = os.path.join( sWorkspace_output, 'pyhexwatershed_configuration_basins_copy.json' )    \n",
    "copy2(sFilename_basins_in, sFilename_configuration_basins_copy)\n",
    "\n",
    "#now we can modify these two configuration files without worrying about the original files\n",
    "sFilename_configuration = sFilename_configuration_copy\n",
    "print(sFilename_configuration)\n",
    "sFilename_basins = sFilename_configuration_basins_copy\n",
    "change_json_key_value(sFilename_configuration, 'sWorkspace_output', sWorkspace_output) #output folder\n",
    "change_json_key_value(sFilename_configuration, 'sFilename_basins', sFilename_basins) #basin configuration file\n",
    "\n",
    "#we want to change the boundary file, which is a geojson file\n",
    "sFilename_mesh_boundary = realpath(os.path.join(sWorkspace_input, 'boundary.geojson')) #boundary to clip mesh\n",
    "change_json_key_value(sFilename_configuration, 'sFilename_mesh_boundary', sFilename_mesh_boundary) \n",
    "sFilename_dem = realpath(os.path.join(sWorkspace_input, 'dem.tif')) #boundary to clip mesh\n",
    "change_json_key_value(sFilename_configuration, 'sFilename_dem', sFilename_dem) \n",
    "\n"
   ]
  },
  {
   "attachments": {},
   "cell_type": "markdown",
   "id": "98968ee9",
   "metadata": {},
   "source": [
    "we can now call the function to re-create a hexwatershed object"
   ]
  },
  {
   "cell_type": "code",
   "execution_count": 21,
   "id": "2a221825",
   "metadata": {},
   "outputs": [
    {
     "name": "stdout",
     "output_type": "stream",
     "text": [
      "/Users/liao313/workspace/python/hexwatershed_tutorial/data/yukon/output/\n",
      "HexWatershed compset is being initialized\n",
      "The model will use the user provided binary file\n",
      "The user provided binary file does not exist. The model will use the default binary file\n",
      "Directory /Users/liao313/workspace/python/hexwatershed_tutorial/data/yukon/output/pyhexwatershed20240416002 created successfully\n",
      "The dggrid binary file does not exist, you need to update this parameter before running the model!\n",
      "The filtered flowline file does not exist!\n",
      "The filtered flowline file does not exist!\n"
     ]
    }
   ],
   "source": [
    "#the read function accepts several keyword arguments that can be used to change the default parameters.\n",
    "#the normal keyword arguments are:\n",
    "#iCase_index_in: this is an ID to identify the simulation case\n",
    "#sMesh_type_in: this specifies the mesh type ('mpas' in this example)\n",
    "#sDate_in: this specifies the date of the simulation, the final output folder will have a pattern such as 'pyflowline20230901001', where pyflowline is model, 20230901 is the date, and 001 is the case index.\n",
    "\n",
    "oPyhexwatershed = pyhexwatershed_read_model_configuration_file(sFilename_configuration,\n",
    "                    iCase_index_in=iCase_index,iFlag_stream_burning_topology_in=iFlag_stream_burning_topology,\n",
    "                    iFlag_use_mesh_dem_in=iFlag_use_mesh_dem,\n",
    "                    iFlag_elevation_profile_in=iFlag_elevation_profile,\n",
    "                    iResolution_index_in = iResolution_index, \n",
    "                    sDggrid_type_in=sDggrid_type,\n",
    "                    sDate_in= sDate, sMesh_type_in = sMesh_type)  "
   ]
  },
  {
   "attachments": {},
   "cell_type": "markdown",
   "id": "439971cd",
   "metadata": {},
   "source": [
    "You can review the setting again."
   ]
  },
  {
   "cell_type": "code",
   "execution_count": 22,
   "id": "4e96d31d",
   "metadata": {},
   "outputs": [
    {
     "name": "stdout",
     "output_type": "stream",
     "text": [
      "{\n",
      "    \"dAccumulation_threshold\": 100000.0,\n",
      "    \"dBreach_threshold\": 10.0,\n",
      "    \"dLatitude_bot\": -20.4,\n",
      "    \"dLatitude_top\": 5.5,\n",
      "    \"dLongitude_left\": -80.0,\n",
      "    \"dLongitude_right\": -50.6,\n",
      "    \"dMissing_value_dem\": -9999.0,\n",
      "    \"dResolution_degree\": 5000.0,\n",
      "    \"dResolution_meter\": 31759.6,\n",
      "    \"iCase_index\": 2,\n",
      "    \"iFlag_create_mesh\": 1,\n",
      "    \"iFlag_elevation_profile\": 0,\n",
      "    \"iFlag_flowline\": 1,\n",
      "    \"iFlag_global\": 0,\n",
      "    \"iFlag_intersect\": 1,\n",
      "    \"iFlag_mesh_boundary\": 1,\n",
      "    \"iFlag_multiple_outlet\": 0,\n",
      "    \"iFlag_resample_method\": 2,\n",
      "    \"iFlag_save_elevation\": 1,\n",
      "    \"iFlag_save_mesh\": 1,\n",
      "    \"iFlag_simplification\": 1,\n",
      "    \"iFlag_stream_burning_topology\": 1,\n",
      "    \"iFlag_use_mesh_dem\": 0,\n",
      "    \"iFlag_user_provided_binary\": 0,\n",
      "    \"iMesh_type\": 5,\n",
      "    \"iResolution_index\": 10,\n",
      "    \"nOutlet\": 1,\n",
      "    \"pPyFlowline\": \"/Users/liao313/workspace/python/hexwatershed_tutorial/data/yukon/output/pyhexwatershed20240416002/pyflowline\",\n",
      "    \"sCase\": \"pyhexwatershed20240416002\",\n",
      "    \"sDate\": \"20240416\",\n",
      "    \"sDggrid_type\": \"ISEA3H\",\n",
      "    \"sFilename_animation_json\": \"/Users/liao313/workspace/python/hexwatershed_tutorial/data/yukon/output/pyhexwatershed20240416002/hexwatershed/animation.json\",\n",
      "    \"sFilename_basins\": \"/Users/liao313/workspace/python/hexwatershed_tutorial/data/yukon/output/pyhexwatershed_configuration_basins_copy.json\",\n",
      "    \"sFilename_dem\": \"/Users/liao313/workspace/python/hexwatershed_tutorial/data/yukon/input/dem.tif\",\n",
      "    \"sFilename_distance_to_outlet\": \"/Users/liao313/workspace/python/hexwatershed_tutorial/data/yukon/output/pyhexwatershed20240416002/hexwatershed/dggrid_distance_to_outlet.geojson\",\n",
      "    \"sFilename_drainage_area\": \"/Users/liao313/workspace/python/hexwatershed_tutorial/data/yukon/output/pyhexwatershed20240416002/hexwatershed/dggrid_drainage_area.geojson\",\n",
      "    \"sFilename_elevation\": \"/Users/liao313/workspace/python/hexwatershed_tutorial/data/yukon/output/pyhexwatershed20240416002/hexwatershed/dggrid_elevation.geojson\",\n",
      "    \"sFilename_flow_direction\": \"/Users/liao313/workspace/python/hexwatershed_tutorial/data/yukon/output/pyhexwatershed20240416002/hexwatershed/dggrid_flow_direction.geojson\",\n",
      "    \"sFilename_hexwatershed_bin\": \"/qfs/people/liao313/workspace/cplus/hexwatershed/build/hexwatershed\",\n",
      "    \"sFilename_hexwatershed_json\": \"/Users/liao313/workspace/python/hexwatershed_tutorial/data/yukon/output/pyhexwatershed20240416002/hexwatershed/hexwatershed.json\",\n",
      "    \"sFilename_mesh\": \"/Users/liao313/workspace/python/hexwatershed_tutorial/data/yukon/output/pyhexwatershed20240416002/pyflowline/dggrid.geojson\",\n",
      "    \"sFilename_mesh_boundary\": \"/Users/liao313/workspace/python/hexwatershed_tutorial/data/yukon/input/boundary.geojson\",\n",
      "    \"sFilename_mesh_info\": \"/Users/liao313/workspace/python/hexwatershed_tutorial/data/yukon/output/pyhexwatershed20240416002/pyflowline/dggrid_mesh_info.json\",\n",
      "    \"sFilename_mesh_netcdf\": \"/compyfs/liao313/00raw/mesh/global/lnd_mesh.nc\",\n",
      "    \"sFilename_model_configuration\": \"/Users/liao313/workspace/python/hexwatershed_tutorial/data/yukon/output/pyhexwatershed_configuration_copy.json\",\n",
      "    \"sFilename_slope\": \"/Users/liao313/workspace/python/hexwatershed_tutorial/data/yukon/output/pyhexwatershed20240416002/hexwatershed/dggrid_slope.geojson\",\n",
      "    \"sFilename_spatial_reference\": \"/qfs/people/liao313/workspace/python/pyhexwatershed_icom/data/yukon/input/boundary_proj_buff.shp\",\n",
      "    \"sFilename_variable_polygon\": \"/Users/liao313/workspace/python/hexwatershed_tutorial/data/yukon/output/pyhexwatershed20240416002/hexwatershed/dggrid_variable_polygon.geojson\",\n",
      "    \"sFilename_variable_polyline\": \"/Users/liao313/workspace/python/hexwatershed_tutorial/data/yukon/output/pyhexwatershed20240416002/hexwatershed/dggrid_variable_polyline.geojson\",\n",
      "    \"sJob\": \"hexwatershed\",\n",
      "    \"sMesh_type\": \"dggrid\",\n",
      "    \"sModel\": \"pyhexwatershed\",\n",
      "    \"sRegion\": \"yukon\",\n",
      "    \"sWorkspace_input\": \"/qfs/people/liao313/workspace/python/pyhexwatershed_icom/data/yukon/input\",\n",
      "    \"sWorkspace_output\": \"/Users/liao313/workspace/python/hexwatershed_tutorial/data/yukon/output/pyhexwatershed20240416002\",\n",
      "    \"sWorkspace_output_hexwatershed\": \"/Users/liao313/workspace/python/hexwatershed_tutorial/data/yukon/output/pyhexwatershed20240416002/hexwatershed\",\n",
      "    \"sWorkspace_output_pyflowline\": \"/Users/liao313/workspace/python/hexwatershed_tutorial/data/yukon/output/pyhexwatershed20240416002/pyflowline\"\n",
      "}\n"
     ]
    }
   ],
   "source": [
    "print(oPyhexwatershed.tojson())"
   ]
  },
  {
   "attachments": {},
   "cell_type": "markdown",
   "id": "e1239843",
   "metadata": {},
   "source": [
    "Other than change the json file directly, you can also change the parameters on the fly for some of the parameters.\n",
    "This is useful for testing different parameters without changing the json file, especially for individual basins."
   ]
  },
  {
   "cell_type": "code",
   "execution_count": 35,
   "id": "8c4e6526",
   "metadata": {},
   "outputs": [],
   "source": [
    "#we also need to set the output location for the only basin\n",
    "dLongitude_outlet_degree= -164.47594\n",
    "dLatitude_outlet_degree= 63.04269\n",
    "oPyhexwatershed.pPyFlowline.aBasin[0].dThreshold_small_river = dResolution * 5 \n",
    "oPyhexwatershed.pPyFlowline.pyflowline_change_model_parameter('dLongitude_outlet_degree', dLongitude_outlet_degree, iFlag_basin_in= 1)\n",
    "oPyhexwatershed.pPyFlowline.pyflowline_change_model_parameter('dLatitude_outlet_degree', dLatitude_outlet_degree, iFlag_basin_in= 1)\n",
    "sFilename_flowline = realpath(os.path.join(sWorkspace_input, 'dggrid10/river_networks.geojson') )\n",
    "oPyhexwatershed.pPyFlowline.pyflowline_change_model_parameter('sFilename_flowline_filter', sFilename_flowline, iFlag_basin_in= 1)"
   ]
  },
  {
   "cell_type": "markdown",
   "id": "61f5b8ed",
   "metadata": {},
   "source": [
    "You can check the setting for the single basin as well"
   ]
  },
  {
   "cell_type": "code",
   "execution_count": 24,
   "id": "edd17e3e",
   "metadata": {},
   "outputs": [
    {
     "name": "stdout",
     "output_type": "stream",
     "text": [
      "{\n",
      "    \"dAccumulation_threshold\": 100000.0,\n",
      "    \"dLatitude_outlet_degree\": 0.17099,\n",
      "    \"dLongitude_outlet_degree\": -50.71465,\n",
      "    \"dThreshold_small_river\": 10000.0,\n",
      "    \"iFlag_correct_flowline_direction\": 0,\n",
      "    \"iFlag_dam\": 0,\n",
      "    \"iFlag_debug\": 1,\n",
      "    \"iFlag_disconnected\": 0,\n",
      "    \"iFlag_remove_low_order_river\": 0,\n",
      "    \"iFlag_remove_small_river\": 0,\n",
      "    \"iMesh_type\": 1,\n",
      "    \"lBasinID\": 1,\n",
      "    \"lCellID_outlet\": -1,\n",
      "    \"sBasinID\": \"00000001\",\n",
      "    \"sFilename_area_of_difference\": \"/Users/liao313/workspace/python/hexwatershed_tutorial/data/yukon/output/pyhexwatershed20240416002/hexwatershed/00000001/area_of_difference.geojson\",\n",
      "    \"sFilename_basin_info\": \"/Users/liao313/workspace/python/hexwatershed_tutorial/data/yukon/output/pyhexwatershed20240416002/hexwatershed/00000001/basin_info.json\",\n",
      "    \"sFilename_confluence_conceptual_info\": \"/Users/liao313/workspace/python/hexwatershed_tutorial/data/yukon/output/pyhexwatershed20240416002/hexwatershed/00000001/confluence_conceptual_info.json\",\n",
      "    \"sFilename_confluence_simplified_info\": \"/Users/liao313/workspace/python/hexwatershed_tutorial/data/yukon/output/pyhexwatershed20240416002/hexwatershed/00000001/confluence_simplified_info.json\",\n",
      "    \"sFilename_dam\": \"/qfs/people/liao313/data/hexwatershed/amazon/auxiliary/ICoM_dams.csv\",\n",
      "    \"sFilename_distance_to_outlet\": \"/Users/liao313/workspace/python/hexwatershed_tutorial/data/yukon/output/pyhexwatershed20240416002/hexwatershed/00000001/distance_to_outlet.geojson\",\n",
      "    \"sFilename_drainage_area\": \"/Users/liao313/workspace/python/hexwatershed_tutorial/data/yukon/output/pyhexwatershed20240416002/hexwatershed/00000001/drainage_area.geojson\",\n",
      "    \"sFilename_elevation\": \"/Users/liao313/workspace/python/hexwatershed_tutorial/data/yukon/output/pyhexwatershed20240416002/hexwatershed/00000001/elevation.geojson\",\n",
      "    \"sFilename_flow_direction\": \"/Users/liao313/workspace/python/hexwatershed_tutorial/data/yukon/output/pyhexwatershed20240416002/hexwatershed/00000001/flow_direction.geojson\",\n",
      "    \"sFilename_flowline_conceptual\": \"/Users/liao313/workspace/python/hexwatershed_tutorial/data/yukon/output/pyhexwatershed20240416002/hexwatershed/00000001/flowline_conceptual.geojson\",\n",
      "    \"sFilename_flowline_conceptual_info\": \"/Users/liao313/workspace/python/hexwatershed_tutorial/data/yukon/output/pyhexwatershed20240416002/hexwatershed/00000001/flowline_conceptual_info.json\",\n",
      "    \"sFilename_flowline_conceptual_kml\": \"/Users/liao313/workspace/python/hexwatershed_tutorial/data/yukon/output/pyhexwatershed20240416002/hexwatershed/00000001/flowline_conceptual.kml\",\n",
      "    \"sFilename_flowline_edge\": \"/Users/liao313/workspace/python/hexwatershed_tutorial/data/yukon/output/pyhexwatershed20240416002/hexwatershed/00000001/flowline_edge.geojson\",\n",
      "    \"sFilename_flowline_filter\": \"/qfs/people/liao313/workspace/python/liao_2023_scidata_dggs/data/yukon/input/dggrid13/river_networks.geojson\",\n",
      "    \"sFilename_flowline_filter_geojson\": \"/Users/liao313/workspace/python/hexwatershed_tutorial/data/yukon/output/pyhexwatershed20240416002/hexwatershed/00000001/flowline_filter.geojson\",\n",
      "    \"sFilename_flowline_intersect\": \"/Users/liao313/workspace/python/hexwatershed_tutorial/data/yukon/output/pyhexwatershed20240416002/hexwatershed/00000001/flowline_intersect_mesh.geojson\",\n",
      "    \"sFilename_flowline_raw\": \"/qfs/people/liao313/data/hexwatershed/amazon/vector/hydrology/allflowline.shp\",\n",
      "    \"sFilename_flowline_segment_index_before_intersect\": \"/Users/liao313/workspace/python/hexwatershed_tutorial/data/yukon/output/pyhexwatershed20240416002/hexwatershed/00000001/flowline_segment_index_before_intersect.geojson\",\n",
      "    \"sFilename_flowline_simplified\": \"/Users/liao313/workspace/python/hexwatershed_tutorial/data/yukon/output/pyhexwatershed20240416002/hexwatershed/00000001/flowline_simplified.geojson\",\n",
      "    \"sFilename_flowline_simplified_info\": \"/Users/liao313/workspace/python/hexwatershed_tutorial/data/yukon/output/pyhexwatershed20240416002/hexwatershed/00000001/flowline_simplified_info.json\",\n",
      "    \"sFilename_flowline_split\": \"/Users/liao313/workspace/python/hexwatershed_tutorial/data/yukon/output/pyhexwatershed20240416002/hexwatershed/00000001/flowline_split.geojson\",\n",
      "    \"sFilename_flowline_topo\": \"/qfs/people/liao313/data/hexwatershed/amazon/auxiliary/flowline.csv\",\n",
      "    \"sFilename_hillslope_characteristics_txt\": \"/Users/liao313/workspace/python/hexwatershed_tutorial/data/yukon/output/pyhexwatershed20240416002/hexwatershed/00000001/hillslope.txt\",\n",
      "    \"sFilename_hillslope_parquet\": \"/Users/liao313/workspace/python/hexwatershed_tutorial/data/yukon/output/pyhexwatershed20240416002/hexwatershed/00000001/hillslope.parquet\",\n",
      "    \"sFilename_segment_characteristics_txt\": \"/Users/liao313/workspace/python/hexwatershed_tutorial/data/yukon/output/pyhexwatershed20240416002/hexwatershed/00000001/segment.txt\",\n",
      "    \"sFilename_slope\": \"/Users/liao313/workspace/python/hexwatershed_tutorial/data/yukon/output/pyhexwatershed20240416002/hexwatershed/00000001/slope.geojson\",\n",
      "    \"sFilename_stream_edge\": \"/Users/liao313/workspace/python/hexwatershed_tutorial/data/yukon/output/pyhexwatershed20240416002/hexwatershed/00000001/stream_edge.geojson\",\n",
      "    \"sFilename_stream_edge_json\": \"/Users/liao313/workspace/python/hexwatershed_tutorial/data/yukon/output/pyhexwatershed20240416002/hexwatershed/00000001/stream_edge.json\",\n",
      "    \"sFilename_stream_segment\": \"/Users/liao313/workspace/python/hexwatershed_tutorial/data/yukon/output/pyhexwatershed20240416002/hexwatershed/00000001/stream_segment.geojson\",\n",
      "    \"sFilename_subbasin_characteristics_txt\": \"/Users/liao313/workspace/python/hexwatershed_tutorial/data/yukon/output/pyhexwatershed20240416002/hexwatershed/00000001/subbasin.txt\",\n",
      "    \"sFilename_subbasin_parquet\": \"/Users/liao313/workspace/python/hexwatershed_tutorial/data/yukon/output/pyhexwatershed20240416002/hexwatershed/00000001/subbasin.parquet\",\n",
      "    \"sFilename_variable_polygon\": \"/Users/liao313/workspace/python/hexwatershed_tutorial/data/yukon/output/pyhexwatershed20240416002/hexwatershed/00000001/variable_polygon.geojson\",\n",
      "    \"sFilename_variable_polyline\": \"/Users/liao313/workspace/python/hexwatershed_tutorial/data/yukon/output/pyhexwatershed20240416002/hexwatershed/00000001/variable_polyline.geojson\",\n",
      "    \"sFilename_watershed_characteristics_txt\": \"/Users/liao313/workspace/python/hexwatershed_tutorial/data/yukon/output/pyhexwatershed20240416002/hexwatershed/00000001/watershed.txt\",\n",
      "    \"sFilename_watershed_json\": \"/Users/liao313/workspace/python/hexwatershed_tutorial/data/yukon/output/pyhexwatershed20240416002/hexwatershed/00000001/watershed.json\",\n",
      "    \"sMesh_type\": \"hexagon\",\n",
      "    \"sWorkspace_output_basin\": \"/Users/liao313/workspace/python/hexwatershed_tutorial/data/yukon/output/pyhexwatershed20240416002/hexwatershed/00000001\"\n",
      "}\n"
     ]
    }
   ],
   "source": [
    "print(oPyhexwatershed.aBasin[0].tojson())"
   ]
  },
  {
   "attachments": {},
   "cell_type": "markdown",
   "id": "c432a723",
   "metadata": {},
   "source": [
    "After the hexwatershed object was re-created, we can set up the model."
   ]
  },
  {
   "cell_type": "code",
   "execution_count": 36,
   "id": "8d74fbfc",
   "metadata": {},
   "outputs": [
    {
     "name": "stdout",
     "output_type": "stream",
     "text": [
      "Started setting up model\n",
      "Basin 00000001: initial flowline: /Users/liao313/workspace/python/hexwatershed_tutorial/data/yukon/input/dggrid10/river_networks.geojson\n",
      "Found binary at: /Users/liao313/workspace/python/hexwatershed_tutorial/bin/dggrid\n",
      "Found binary at: /Users/liao313/workspace/python/hexwatershed_tutorial/bin/hexwatershed\n",
      "Elapsed time: 0.7900 seconds\n"
     ]
    }
   ],
   "source": [
    "#setup the model  \n",
    "oPyhexwatershed.iFlag_user_provided_binary = 0 \n",
    "oPyhexwatershed.pPyFlowline.iFlag_user_provided_binary = 0     \n",
    "oPyhexwatershed.pyhexwatershed_setup()"
   ]
  },
  {
   "attachments": {},
   "cell_type": "markdown",
   "id": "39507b33",
   "metadata": {},
   "source": [
    "Before any operation, we can visualize the original or raw flowline dataset. "
   ]
  },
  {
   "cell_type": "code",
   "execution_count": 32,
   "id": "167e3cb8",
   "metadata": {},
   "outputs": [],
   "source": [
    "iFlag_geopandas = importlib.util.find_spec(\"geopandas\")\n",
    "if iFlag_geopandas is not None:\n",
    "    import geopandas as gpd\n",
    "    import matplotlib.pyplot as plt  \n",
    "else:\n",
    "    print('The visulization packages are not installed.')\n",
    "pass"
   ]
  },
  {
   "attachments": {},
   "cell_type": "markdown",
   "id": "8d3b8d00",
   "metadata": {},
   "source": [
    "You can also use QGIS."
   ]
  },
  {
   "attachments": {},
   "cell_type": "markdown",
   "id": "09017d73",
   "metadata": {},
   "source": [
    "The plot function provides a few optional arguments such as map projection and spatial extent. \n",
    "By default, the spatial extent is full. \n",
    "But you can set the extent to a zoom-in region."
   ]
  },
  {
   "attachments": {},
   "cell_type": "markdown",
   "id": "e735b614",
   "metadata": {},
   "source": [
    "Now let's run the the submodel pyflowline."
   ]
  },
  {
   "cell_type": "code",
   "execution_count": 37,
   "id": "689984cb",
   "metadata": {},
   "outputs": [
    {
     "name": "stdout",
     "output_type": "stream",
     "text": [
      "Started running pyflowline\n",
      "Start flowline simplification: 00000001\n",
      "Basin  00000001  has no dam\n",
      "Basin  00000001 find flowline vertex\n",
      "Elapsed time: 0.0041 seconds\n",
      "Basin  00000001 split flowline\n",
      "Elapsed time: 0.3807 seconds\n",
      "Basin  00000001 started correction flow direction\n",
      "Elapsed time: 0.0264 seconds\n",
      "-164.46458333333362 63.03124999999984\n",
      "Basin  00000001 started loop removal\n",
      "Elapsed time: 0.0069 seconds\n",
      "Basin  00000001 started update stream order initial\n",
      "Elapsed time: 0.0078 seconds\n",
      "Basin  00000001 find flowline confluence\n",
      "Elapsed time: 0.0004 seconds\n",
      "Basin  00000001 started stream segment definition\n",
      "Elapsed time: 0.0000 seconds\n",
      "Basin  00000001 started confluence definition\n",
      "Elapsed time: 0.0001 seconds\n",
      "Basin  00000001 started stream topology definition\n",
      "Elapsed time: 0.0000 seconds\n",
      "Basin  00000001 started stream order definition\n",
      "Elapsed time: 0.0018 seconds\n",
      "Finish flowline simplification: 00000001\n",
      "Start mesh generation.\n",
      "GTiff pDriver IS available.\n",
      "\n",
      "Resolution is:  31759.6\n",
      "./run_dggrid.sh\n",
      "** executing DGGRID version 8.1b **\n",
      "type sizes: big int: 64 bits / big double: 128 bits\n",
      "\n",
      "** using meta file /Users/liao313/workspace/python/hexwatershed_tutorial/data/yukon/output/pyhexwatershed20240416002/dggrid/dggrid.ini...\n",
      "* parameter values:\n",
      "dggrid_operation GENERATE_GRID (user set)\n",
      "rng_type RAND (default)\n",
      "precision 7 (default)\n",
      "verbosity 0 (default)\n",
      "pause_on_startup false (default)\n",
      "pause_before_exit false (default)\n",
      "update_frequency 10000000 (user set)\n",
      "dggs_type ISEA3H (user set)\n",
      "dggs_topology HEXAGON (user set)\n",
      "dggs_proj ISEA (user set)\n",
      "dggs_aperture_type PURE (user set)\n",
      "dggs_aperture 3 (user set)\n",
      "proj_datum WGS84_AUTHALIC_SPHERE (default)\n",
      "dggs_orient_specify_type SPECIFIED (user set)\n",
      "dggs_num_placements 1 (user set)\n",
      "dggs_vert0_lon 11.25 (user set)\n",
      "dggs_vert0_lat 58.2825 (user set)\n",
      "dggs_vert0_azimuth 0 (user set)\n",
      "dggs_res_specify_type SPECIFIED (user set)\n",
      "dggs_res_spec 10 (user set)\n",
      "input_files vals.txt (default)\n",
      "input_file_name valsin.txt (default)\n",
      "point_input_file_type NONE (default)\n",
      "input_address_type GEO (default)\n",
      "input_delimiter \" \" (default)\n",
      "output_file_name valsout.txt (default)\n",
      "output_file_type NONE (default)\n",
      "output_address_type SEQNUM (default)\n",
      "output_delimiter \" \" (default)\n",
      "densification 0 (user set)\n",
      "longitude_wrap_mode WRAP (default)\n",
      "unwrap_points true (default)\n",
      "output_cell_label_type GLOBAL_SEQUENCE (default)\n",
      "cell_output_type GDAL_COLLECTION (user set)\n",
      "point_output_type NONE (default)\n",
      "randpts_output_type NONE (default)\n",
      "cell_output_gdal_format GeoJSON (default)\n",
      "point_output_gdal_format GeoJSON (default)\n",
      "collection_output_gdal_format GeoJSON (default)\n",
      "cell_output_file_name /Users/liao313/workspace/python/hexwatershed_tutorial/data/yukon/output/pyhexwatershed20240416002/dggrid/cells (user set)\n",
      "point_output_file_name centers (default)\n",
      "randpts_output_file_name randPts (default)\n",
      "collection_output_file_name cells (default)\n",
      "dggs_orient_output_file_name grid.meta (default)\n",
      "shapefile_id_field_length 11 (default)\n",
      "kml_default_width 4 (default)\n",
      "kml_default_color ffffffff (default)\n",
      "kml_name  (default)\n",
      "kml_description Generated by DGGRID 8.1b (default)\n",
      "neighbor_output_type GDAL_COLLECTION (user set)\n",
      "neighbor_output_file_name nbr (default)\n",
      "children_output_type NONE (default)\n",
      "children_output_file_name chld (default)\n",
      "max_cells_per_output_file 0 (user set)\n",
      "output_first_seqnum 1 (default)\n",
      "output_last_seqnum 18446744073709551615 (default)\n",
      "clip_using_holes false (default)\n",
      "geodetic_densify 0 (default)\n",
      "clip_subset_type GDAL (user set)\n",
      "clip_cell_addresses  (default)\n",
      "clip_cell_res 1 (default)\n",
      "clip_cell_densification 1 (default)\n",
      "clip_region_files /Users/liao313/workspace/python/hexwatershed_tutorial/data/yukon/input/boundary.geojson (user set)\n",
      "clip_type POLY_INTERSECT (default)\n",
      "clipper_scale_factor 1000000 (default)\n",
      "\n",
      "Registering GDAL drivers...\n",
      "\n",
      "* building clipping regions...\n",
      "\n",
      "* No intersections in quad 0.\n",
      "* Testing quad 1... \n",
      "...quad 1 complete.\n",
      "* No intersections in quad 2.\n",
      "* No intersections in quad 3.\n",
      "* No intersections in quad 4.\n",
      "* No intersections in quad 5.\n",
      "* No intersections in quad 6.\n",
      "* No intersections in quad 7.\n",
      "* No intersections in quad 8.\n",
      "* No intersections in quad 9.\n",
      "* No intersections in quad 10.\n",
      "* No intersections in quad 11.\n",
      "\n",
      "** grid generation complete **\n",
      "accepted 1,118 cells / 5,400 tested\n",
      "acceptance rate is 20.7037%\n",
      "\n",
      "/Users/liao313/workspace/python/hexwatershed_tutorial/data/yukon/output/pyhexwatershed20240416002/dggrid/cells\n",
      "Finish mesh generation.\n",
      "Start topology reconstruction.\n",
      "Basin  00000001 Start topology reconstruction\n",
      "Basin  00000001 Start flowline and mesh intersection\n",
      "Elapsed time: 12.5117 seconds\n",
      "Basin  00000001 Start return flowline removal\n",
      "Outlet ID 1725\n",
      "Outlet location -164.48612963186932 62.90952521529533\n",
      "Elapsed time: 0.2306 seconds\n",
      "Basin  00000001 Start split flowline to edge\n",
      "Elapsed time: 0.0085 seconds\n",
      "Basin  00000001 Start remove duplicate flowline\n",
      "Elapsed time: 0.0004 seconds\n",
      "Basin  00000001 Start flowline direction correction\n",
      "Elapsed time: 0.0032 seconds\n",
      "Basin  00000001 Start flowline loop removal\n",
      "Elapsed time: 0.0008 seconds\n",
      "Basin  00000001 Start find flowline confluence\n",
      "Elapsed time: 0.0026 seconds\n",
      "Basin  00000001 Start merge flowline\n",
      "Elapsed time: 0.0259 seconds\n",
      "Basin  00000001 Start find flowline confluence\n",
      "Elapsed time: 0.0003 seconds\n",
      "Basin  00000001 started stream topology definition\n",
      "Elapsed time: 0.0000 seconds\n",
      "Outlet ID 1725\n",
      "Outlet location -164.48612963186932 62.90952521529533\n",
      "Finish topology reconstruction: 00000001\n",
      "Finish topology reconstruction.\n",
      "Elapsed time: 27.5684 seconds\n"
     ]
    }
   ],
   "source": [
    "#run step 1\n",
    "aCell_origin = oPyhexwatershed.pyhexwatershed_run_pyflowline();"
   ]
  },
  {
   "attachments": {},
   "cell_type": "markdown",
   "id": "7c786cb7",
   "metadata": {},
   "source": [
    "and check the result using a plot"
   ]
  },
  {
   "attachments": {},
   "cell_type": "markdown",
   "id": "fedd7947",
   "metadata": {},
   "source": [
    "Similarly, we can zoom in using the extent."
   ]
  },
  {
   "attachments": {},
   "cell_type": "markdown",
   "id": "e72a9453",
   "metadata": {},
   "source": [
    "Next, we will creata a mesh from the global MPAS mesh."
   ]
  },
  {
   "attachments": {},
   "cell_type": "markdown",
   "id": "29e58f9b",
   "metadata": {},
   "source": [
    "we can also use a polygon to create a mesh"
   ]
  },
  {
   "attachments": {},
   "cell_type": "markdown",
   "id": "9d8c3d26",
   "metadata": {},
   "source": [
    "Last, we can generate the conceptual flowline."
   ]
  },
  {
   "attachments": {},
   "cell_type": "markdown",
   "id": "73df1fb2",
   "metadata": {},
   "source": [
    "Now we can overlap mesh with flowline."
   ]
  },
  {
   "cell_type": "code",
   "execution_count": 38,
   "id": "61d6df7b",
   "metadata": {},
   "outputs": [
    {
     "name": "stdout",
     "output_type": "stream",
     "text": [
      "Started assigning elevation\n",
      "GTiff pDriver IS available.\n",
      "\n",
      "Elapsed time: 1.6194 seconds\n",
      "Started updating outlet\n",
      "Elapsed time: 0.0003 seconds\n",
      "PyFlowline started export results\n",
      "Elapsed time: 0.3954 seconds\n",
      "Started running hexwatershed\n",
      "Running on a Unix-based system\n",
      "Start to run HexWatershed model!\n",
      "The following arguments are provided:\n",
      "/Users/liao313/workspace/python/hexwatershed_tutorial/data/yukon/output/pyhexwatershed20240416002/configuration.json\n",
      "The configuration file is:/Users/liao313/workspace/python/hexwatershed_tutorial/data/yukon/output/pyhexwatershed20240416002/configuration.json\n",
      "Finished set up  model at Tue Apr 16 19:46:26 2024\n",
      "\n",
      "Finished reading data at Tue Apr 16 19:46:26 2024\n",
      "\n",
      "Finished initialization at Tue Apr 16 19:46:26 2024\n",
      "\n",
      "This is a local simulation.\n",
      "This is a local simulation with only one outlet.\n",
      " You have assigned the correct outlet mesh ID!\n",
      "Finished depression filling at Tue Apr 16 19:46:26 2024\n",
      "\n",
      "Finished flow direction at Tue Apr 16 19:46:26 2024\n",
      "\n",
      "Finished flow accumulation at Tue Apr 16 19:46:26 2024\n",
      "\n",
      "Finished defining stream grid at Tue Apr 16 19:46:26 2024\n",
      "\n",
      "Finished defining watershed boundary at Tue Apr 16 19:46:26 2024\n",
      "\n",
      "Finished defining confluence at Tue Apr 16 19:46:26 2024\n",
      "\n",
      "Finished defining stream segment at Tue Apr 16 19:46:26 2024\n",
      "\n",
      "Finished defining stream topology at Tue Apr 16 19:46:26 2024\n",
      "\n",
      "Finished defining stream order at Tue Apr 16 19:46:26 2024\n",
      "\n",
      "Finished defining subbasin at Tue Apr 16 19:46:26 2024\n",
      "\n",
      "Finished watershed characteristics at Tue Apr 16 19:46:26 2024\n",
      "\n",
      "Finished saving results! at Tue Apr 16 19:46:26 2024\n",
      "\n",
      "Finished clean up memory!\n",
      "Finished!\n",
      "Elapsed time: 0.3734 seconds\n",
      "Started export results\n",
      "Elapsed time: 0.6298 seconds\n"
     ]
    }
   ],
   "source": [
    "\n",
    "oPyhexwatershed.pyhexwatershed_assign_elevation_to_cells();\n"
   ]
  },
  {
   "cell_type": "code",
   "execution_count": null,
   "id": "57f3840b",
   "metadata": {},
   "outputs": [],
   "source": [
    "aCell_new = oPyhexwatershed.pyhexwatershed_update_outlet(aCell_origin)\n"
   ]
  },
  {
   "cell_type": "code",
   "execution_count": null,
   "id": "856eaf2e",
   "metadata": {},
   "outputs": [],
   "source": [
    "oPyhexwatershed.pPyFlowline.pyflowline_export()\n",
    "oPyhexwatershed.pyhexwatershed_export_config_to_json()\n"
   ]
  },
  {
   "cell_type": "code",
   "execution_count": null,
   "id": "a6bb1dfe",
   "metadata": {},
   "outputs": [],
   "source": [
    "oPyhexwatershed.pyhexwatershed_run_hexwatershed();\n"
   ]
  },
  {
   "cell_type": "code",
   "execution_count": null,
   "id": "1b393e92",
   "metadata": {},
   "outputs": [],
   "source": [
    "\n",
    "oPyhexwatershed.pyhexwatershed_export()\n"
   ]
  },
  {
   "attachments": {},
   "cell_type": "markdown",
   "id": "33ce7f70",
   "metadata": {},
   "source": [
    "After this, we can save the model output into a json file."
   ]
  },
  {
   "cell_type": "code",
   "execution_count": 31,
   "id": "e8efab4e",
   "metadata": {},
   "outputs": [],
   "source": [
    "#export output\n",
    "\n",
    "file1_path = oPyhexwatershed.sFilename_mesh\n",
    "file2_path = oPyhexwatershed.aBasin[0].sFilename_flow_direction\n",
    "gdf1 = gpd.read_file(file1_path)\n",
    "gdf2 = gpd.read_file(file2_path)\n",
    "fig, ax = plt.subplots()\n",
    "gdf1.plot(ax=ax, color='blue')\n",
    "gdf2.plot(ax=ax, color='red')\n",
    "plt.show()\n",
    "pass"
   ]
  },
  {
   "attachments": {},
   "cell_type": "markdown",
   "id": "5c8c3f75",
   "metadata": {},
   "source": [
    "the content of the one of the exported json files can be checked:"
   ]
  },
  {
   "attachments": {},
   "cell_type": "markdown",
   "id": "9e07bc96",
   "metadata": {},
   "source": [
    "The outlet associated flowline is always assigned with a dam, because it would be preserved."
   ]
  },
  {
   "attachments": {},
   "cell_type": "markdown",
   "id": "e2f1bea7",
   "metadata": {},
   "source": [
    "Congratulations! You have successfully finished a pyflowline simulation."
   ]
  }
 ],
 "metadata": {
  "kernelspec": {
   "display_name": "hexwatershed",
   "language": "python",
   "name": "python3"
  },
  "language_info": {
   "codemirror_mode": {
    "name": "ipython",
    "version": 3
   },
   "file_extension": ".py",
   "mimetype": "text/x-python",
   "name": "python",
   "nbconvert_exporter": "python",
   "pygments_lexer": "ipython3",
   "version": "3.12.3"
  },
  "vscode": {
   "interpreter": {
    "hash": "79a4c0f6fdb3719d3372bd1edc1cf6b68731a08c9eb5f46b972d9360271030c3"
   }
  }
 },
 "nbformat": 4,
 "nbformat_minor": 5
}
